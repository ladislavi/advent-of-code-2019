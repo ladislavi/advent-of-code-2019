{
 "cells": [
  {
   "cell_type": "code",
   "execution_count": 1,
   "metadata": {},
   "outputs": [
    {
     "data": {
      "text/plain": [
       "(303, (26, 29))"
      ]
     },
     "execution_count": 1,
     "metadata": {},
     "output_type": "execute_result"
    }
   ],
   "source": [
    "# Part 1\n",
    "import math\n",
    "from copy import deepcopy\n",
    "\n",
    "def map_to_points(asteroids):\n",
    "    points = []\n",
    "    for y, row in enumerate(asteroids.splitlines()):\n",
    "        for x, postion in enumerate(row):\n",
    "            if postion == \"#\":\n",
    "                points.append((x, y))\n",
    "    \n",
    "    return points\n",
    "\n",
    "def get_degrees(origin, target):\n",
    "    ox, oy = origin\n",
    "    tx, ty = target\n",
    "    \n",
    "    degrees = math.degrees(math.atan2(oy - ty, ox - tx))\n",
    "    \n",
    "    degrees -= 90\n",
    "\n",
    "    if degrees < 0:\n",
    "        degrees = degrees + 360\n",
    "        \n",
    "    return degrees\n",
    "\n",
    "def get_distance(origin, target):\n",
    "    ox, oy = origin\n",
    "    tx, ty = target\n",
    "    return math.sqrt(abs(ox - tx)**2 + abs(oy - ty)**2)\n",
    "\n",
    "def count_lines(origin, points):\n",
    "    \n",
    "    other_points = deepcopy(points)\n",
    "    other_points.remove(origin)\n",
    "    \n",
    "    angles = set()\n",
    "    \n",
    "    for point in other_points:\n",
    "        angles.add(get_degrees(origin, point))\n",
    "        \n",
    "    return len(angles)\n",
    "\n",
    "def find_best_base(points):\n",
    "    best_count = 0\n",
    "    best_loc = None\n",
    "    for point in points:\n",
    "        count_visible = count_lines(point, points)\n",
    "        if count_visible > best_count:\n",
    "            best_count = count_visible\n",
    "            best_loc = point\n",
    "            \n",
    "    return best_count, best_loc\n",
    "\n",
    "asteroids = open('input/day10.txt').read()\n",
    "points = map_to_points(asteroids)\n",
    "find_best_base(points)"
   ]
  },
  {
   "cell_type": "code",
   "execution_count": 2,
   "metadata": {},
   "outputs": [
    {
     "data": {
      "text/plain": [
       "((4, 8), 30.4138126514911)"
      ]
     },
     "execution_count": 2,
     "metadata": {},
     "output_type": "execute_result"
    }
   ],
   "source": [
    "from collections import OrderedDict\n",
    "\n",
    "def get_asteroids_by_degree(origin, points):\n",
    "\n",
    "    other_points = deepcopy(points)\n",
    "    other_points.remove(origin)\n",
    "    \n",
    "    asteroids = {}\n",
    "    \n",
    "    for point in other_points:\n",
    "        angle = get_degrees(origin, point)\n",
    "        dist = get_distance(origin, point)\n",
    "        if angle not in asteroids:\n",
    "            asteroids[angle] = []\n",
    "        asteroids[angle].append((point, dist))\n",
    "        \n",
    "    ordered = sorted(asteroids.items()) # sort by angle\n",
    "    return [(angle, sorted(asteroid, key=lambda ast: ast[1])) for angle, asteroid in ordered]\n",
    "\n",
    "def calc_200th_eliminated(sorted_angles):\n",
    "    ast_cnt = 0\n",
    "    i = 0\n",
    "    last_asteroid = None\n",
    "    while ast_cnt < 200:\n",
    "        _, asteroids = sorted_angles[i]\n",
    "        last_asteroid = asteroids.pop(0)\n",
    "#         print(f'{i}: {last_asteroid}')\n",
    "        sorted_angles[i] = (_, asteroids)\n",
    "        \n",
    "        ast_cnt += 1\n",
    "        i += 1\n",
    "        \n",
    "    return last_asteroid\n",
    "\n",
    "sorted_angles = get_asteroids_by_degree((26, 29), points)\n",
    "calc_200th_eliminated(sorted_angles)"
   ]
  }
 ],
 "metadata": {
  "kernelspec": {
   "display_name": "Python 3",
   "language": "python",
   "name": "python3"
  },
  "language_info": {
   "codemirror_mode": {
    "name": "ipython",
    "version": 3
   },
   "file_extension": ".py",
   "mimetype": "text/x-python",
   "name": "python",
   "nbconvert_exporter": "python",
   "pygments_lexer": "ipython3",
   "version": "3.9.1"
  }
 },
 "nbformat": 4,
 "nbformat_minor": 4
}
