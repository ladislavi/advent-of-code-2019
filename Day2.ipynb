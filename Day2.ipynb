{
 "cells": [
  {
   "cell_type": "code",
   "execution_count": 1,
   "metadata": {},
   "outputs": [],
   "source": [
    "input_data = open('input/day2.txt').read()\n",
    "instructions = input_data.split(',')\n",
    "instructions = [int(i) for i in instructions]"
   ]
  },
  {
   "cell_type": "code",
   "execution_count": 2,
   "metadata": {},
   "outputs": [
    {
     "data": {
      "text/plain": [
       "3166704"
      ]
     },
     "execution_count": 2,
     "metadata": {},
     "output_type": "execute_result"
    }
   ],
   "source": [
    "# Part 1\n",
    "from copy import deepcopy\n",
    "\n",
    "prog = deepcopy(instructions)\n",
    "\n",
    "prog[1] = 12\n",
    "prog[2] = 2\n",
    "\n",
    "def run_program(prog):\n",
    "    pc = 0\n",
    "    while prog[pc] != 99:\n",
    "        if prog[pc] == 1: # add\n",
    "            prog[prog[pc+3]] = prog[prog[pc+1]] + prog[prog[pc+2]]\n",
    "\n",
    "        elif prog[pc] == 2: # mult\n",
    "            prog[prog[pc+3]] = prog[prog[pc+1]] * prog[prog[pc+2]]\n",
    "        else:\n",
    "            # print(f'Oh oh: {prog[pc]}')\n",
    "            break\n",
    "        pc+=4   \n",
    "    return prog[0]\n",
    "\n",
    "run_program(prog)"
   ]
  },
  {
   "cell_type": "code",
   "execution_count": 3,
   "metadata": {},
   "outputs": [
    {
     "data": {
      "text/plain": [
       "(80, 18)"
      ]
     },
     "execution_count": 3,
     "metadata": {},
     "output_type": "execute_result"
    }
   ],
   "source": [
    "# Part 2\n",
    "\n",
    "def find_value(value, instructions):\n",
    "    nouns = range(0, 99)\n",
    "    verbs = range(0, 99)\n",
    "    \n",
    "    for noun in nouns:\n",
    "        for verb in verbs:\n",
    "            prog = deepcopy(instructions)\n",
    "            prog[1] = noun\n",
    "            prog[2] = verb\n",
    "            if run_program(prog) == value:\n",
    "                return noun, verb\n",
    "            \n",
    "    return 'maximum sadness'\n",
    "            \n",
    "find_value(19690720, instructions)"
   ]
  }
 ],
 "metadata": {
  "kernelspec": {
   "display_name": "Python 3",
   "language": "python",
   "name": "python3"
  },
  "language_info": {
   "codemirror_mode": {
    "name": "ipython",
    "version": 3
   },
   "file_extension": ".py",
   "mimetype": "text/x-python",
   "name": "python",
   "nbconvert_exporter": "python",
   "pygments_lexer": "ipython3",
   "version": "3.9.1"
  }
 },
 "nbformat": 4,
 "nbformat_minor": 4
}
