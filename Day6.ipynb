{
 "cells": [
  {
   "cell_type": "code",
   "execution_count": 1,
   "metadata": {},
   "outputs": [],
   "source": [
    "from treelib import Node, Tree\n",
    "from copy import deepcopy\n",
    "\n",
    "def create_map(definition):\n",
    "    orbit_map = Tree()\n",
    "    \n",
    "    orbit_map.create_node('COM', 'COM')\n",
    "    stack = deepcopy(definition)\n",
    "    i = 0\n",
    "    while stack:\n",
    "        if i >= len(stack):\n",
    "            i = 0\n",
    "        p, c = stack[i].split(')')\n",
    "        try:\n",
    "            orbit_map.create_node(c, c, parent=p)\n",
    "            stack.remove(stack[i])\n",
    "        except:\n",
    "            pass\n",
    "        finally:\n",
    "            i+=1\n",
    "        \n",
    "    return orbit_map\n",
    "\n",
    "def count_orbits(definition):\n",
    "    orbit_map = create_map(definition)\n",
    "    \n",
    "    orbits = 0\n",
    "    for node in orbit_map.all_nodes():\n",
    "        orbits += orbit_map.depth(node)\n",
    "    return orbits"
   ]
  },
  {
   "cell_type": "code",
   "execution_count": 2,
   "metadata": {},
   "outputs": [
    {
     "data": {
      "text/plain": [
       "223251"
      ]
     },
     "execution_count": 2,
     "metadata": {},
     "output_type": "execute_result"
    }
   ],
   "source": [
    "# Part 1\n",
    "map_definition = open('input/day6.txt').read().splitlines()\n",
    "\n",
    "count_orbits(map_definition)"
   ]
  },
  {
   "cell_type": "code",
   "execution_count": 3,
   "metadata": {
    "scrolled": true
   },
   "outputs": [
    {
     "data": {
      "text/plain": [
       "430"
      ]
     },
     "execution_count": 3,
     "metadata": {},
     "output_type": "execute_result"
    }
   ],
   "source": [
    "# Part 2\n",
    "def get_shortest_distance(node1, node2, map_definition):\n",
    "    galaxy_map = create_map(map_definition)\n",
    "    path1 = list(galaxy_map.rsearch(node1))\n",
    "    path2 = list(galaxy_map.rsearch(node2))\n",
    "    path1.reverse()\n",
    "    path2.reverse()\n",
    "\n",
    "    i = 0\n",
    "    while True:\n",
    "        if path1[i] == path2[i]:\n",
    "            lca = path1[i]\n",
    "            i+=1\n",
    "        else:\n",
    "            break\n",
    "            \n",
    "            \n",
    "    return (len(path1) - path1.index(lca)) + (len(path2) - path2.index(lca)) -4\n",
    "    \n",
    "    \n",
    "get_shortest_distance('YOU', 'SAN', map_definition)"
   ]
  }
 ],
 "metadata": {
  "kernelspec": {
   "display_name": "Python 3",
   "language": "python",
   "name": "python3"
  },
  "language_info": {
   "codemirror_mode": {
    "name": "ipython",
    "version": 3
   },
   "file_extension": ".py",
   "mimetype": "text/x-python",
   "name": "python",
   "nbconvert_exporter": "python",
   "pygments_lexer": "ipython3",
   "version": "3.9.1"
  }
 },
 "nbformat": 4,
 "nbformat_minor": 4
}
