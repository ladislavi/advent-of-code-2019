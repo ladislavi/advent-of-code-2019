{
 "cells": [
  {
   "cell_type": "markdown",
   "metadata": {},
   "source": [
    "--- Day 8: Space Image Format ---\n",
    "\n",
    "The Elves' spirits are lifted when they realize you have an opportunity to reboot one of their Mars rovers, and so they are curious if you would spend a brief sojourn on Mars. You land your ship near the rover.\n",
    "\n",
    "When you reach the rover, you discover that it's already in the process of rebooting! It's just waiting for someone to enter a BIOS password. The Elf responsible for the rover takes a picture of the password (your puzzle input) and sends it to you via the Digital Sending Network.\n",
    "\n",
    "Unfortunately, images sent via the Digital Sending Network aren't encoded with any normal encoding; instead, they're encoded in a special Space Image Format. None of the Elves seem to remember why this is the case. They send you the instructions to decode it.\n",
    "\n",
    "Images are sent as a series of digits that each represent the color of a single pixel. The digits fill each row of the image left-to-right, then move downward to the next row, filling rows top-to-bottom until every pixel of the image is filled.\n",
    "\n",
    "Each image actually consists of a series of identically-sized layers that are filled in this way. So, the first digit corresponds to the top-left pixel of the first layer, the second digit corresponds to the pixel to the right of that on the same layer, and so on until the last digit, which corresponds to the bottom-right pixel of the last layer.\n",
    "\n",
    "For example, given an image 3 pixels wide and 2 pixels tall, the image data 123456789012 corresponds to the following image layers:\n",
    "```\n",
    "Layer 1: 123\n",
    "         456\n",
    "\n",
    "Layer 2: 789\n",
    "         012\n",
    "```\n",
    "The image you received is 25 pixels wide and 6 pixels tall.\n",
    "\n",
    "To make sure the image wasn't corrupted during transmission, the Elves would like you to find the layer that contains the fewest 0 digits. On that layer, what is the number of 1 digits multiplied by the number of 2 digits?\n"
   ]
  },
  {
   "cell_type": "code",
   "execution_count": 1,
   "metadata": {},
   "outputs": [
    {
     "data": {
      "text/plain": [
       "1441"
      ]
     },
     "execution_count": 1,
     "metadata": {},
     "output_type": "execute_result"
    }
   ],
   "source": [
    "# Part 1\n",
    "\n",
    "_input = open('input/day8.txt').read().splitlines()[0]\n",
    "width = 25\n",
    "height = 6\n",
    "\n",
    "n_digits = height * width\n",
    "\n",
    "def split_iter(iterable, chunk_size):\n",
    "    for i in range(0, len(iterable), chunk_size):\n",
    "        yield iterable[i:i+chunk_size]\n",
    "\n",
    "zeroes = 9999999\n",
    "target_layer = None\n",
    "\n",
    "for idx, layer in enumerate(split_iter(_input, n_digits)):\n",
    "    current_zeroes = layer.count('0')\n",
    "    if current_zeroes < zeroes:\n",
    "        target_layer = layer\n",
    "        zeroes = current_zeroes\n",
    "        \n",
    "target_layer.count('1') * target_layer.count('2')"
   ]
  },
  {
   "cell_type": "markdown",
   "metadata": {},
   "source": [
    "--- Part Two ---\n",
    "\n",
    "Now you're ready to decode the image. The image is rendered by stacking the layers and aligning the pixels with the same positions in each layer. The digits indicate the color of the corresponding pixel: 0 is black, 1 is white, and 2 is transparent.\n",
    "\n",
    "The layers are rendered with the first layer in front and the last layer in back. So, if a given position has a transparent pixel in the first and second layers, a black pixel in the third layer, and a white pixel in the fourth layer, the final image would have a black pixel at that position.\n",
    "\n",
    "For example, given an image 2 pixels wide and 2 pixels tall, the image data 0222112222120000 corresponds to the following image layers:\n",
    "```\n",
    "Layer 1: 02\n",
    "         22\n",
    "\n",
    "Layer 2: 11\n",
    "         22\n",
    "\n",
    "Layer 3: 22\n",
    "         12\n",
    "\n",
    "Layer 4: 00\n",
    "         00\n",
    "```\n",
    "Then, the full image can be found by determining the top visible pixel in each position:\n",
    "\n",
    "    The top-left pixel is black because the top layer is 0.\n",
    "    The top-right pixel is white because the top layer is 2 (transparent), but the second layer is 1.\n",
    "    The bottom-left pixel is white because the top two layers are 2, but the third layer is 1.\n",
    "    The bottom-right pixel is black because the only visible pixel in that position is 0 (from layer 4).\n",
    "\n",
    "So, the final image looks like this:\n",
    "```\n",
    "01\n",
    "10\n",
    "```\n",
    "What message is produced after decoding your image?\n"
   ]
  },
  {
   "cell_type": "code",
   "execution_count": 2,
   "metadata": {},
   "outputs": [
    {
     "name": "stdout",
     "output_type": "stream",
     "text": [
      "@@@  @  @ @@@@ @@@  @@@  \n",
      "@  @ @  @    @ @  @ @  @ \n",
      "@  @ @  @   @  @@@  @  @ \n",
      "@@@  @  @  @   @  @ @@@  \n",
      "@ @  @  @ @    @  @ @    \n",
      "@  @  @@  @@@@ @@@  @    \n"
     ]
    }
   ],
   "source": [
    "# Part 2\n",
    "\n",
    "def get_layers(digits, width, height):\n",
    "    layers = []\n",
    "    for layer_codes in split_iter(digits, width*height):\n",
    "        layer = []\n",
    "        for row in split_iter(layer_codes, width):\n",
    "            layer.append(list(row))\n",
    "        layers.append(layer)\n",
    "        \n",
    "    return layers\n",
    "\n",
    "def render_image(layers):\n",
    "    render = layers[0]\n",
    "    for layer in layers:\n",
    "        for y, row in enumerate(layer):            \n",
    "            for x, pixel in enumerate(row):\n",
    "                if render[y][x] == '2':\n",
    "                    render[y][x] = pixel\n",
    "                    \n",
    "    for row in render:\n",
    "        for px in row:\n",
    "            if px == '1':\n",
    "                print('@', end='')\n",
    "            else:\n",
    "                print(' ', end='')\n",
    "        print()\n",
    "\n",
    "layers = get_layers(_input, width, height)\n",
    "render_image(layers)"
   ]
  }
 ],
 "metadata": {
  "kernelspec": {
   "display_name": "Python 3",
   "language": "python",
   "name": "python3"
  },
  "language_info": {
   "codemirror_mode": {
    "name": "ipython",
    "version": 3
   },
   "file_extension": ".py",
   "mimetype": "text/x-python",
   "name": "python",
   "nbconvert_exporter": "python",
   "pygments_lexer": "ipython3",
   "version": "3.9.1"
  }
 },
 "nbformat": 4,
 "nbformat_minor": 4
}
