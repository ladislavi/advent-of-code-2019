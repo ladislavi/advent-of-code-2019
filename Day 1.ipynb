{
 "cells": [
  {
   "cell_type": "code",
   "execution_count": 1,
   "metadata": {},
   "outputs": [],
   "source": [
    "input_data = open('day1.txt').read().splitlines()"
   ]
  },
  {
   "cell_type": "code",
   "execution_count": 2,
   "metadata": {},
   "outputs": [
    {
     "data": {
      "text/plain": [
       "3457681"
      ]
     },
     "execution_count": 2,
     "metadata": {},
     "output_type": "execute_result"
    }
   ],
   "source": [
    "# Part 1\n",
    "\n",
    "def get_fuel_req(mass):\n",
    "    return int(mass/3)-2\n",
    "\n",
    "total_fuel = 0\n",
    "for module_mass in input_data:\n",
    "    total_fuel += get_fuel_req(int(module_mass))\n",
    "    \n",
    "total_fuel"
   ]
  },
  {
   "cell_type": "code",
   "execution_count": 3,
   "metadata": {},
   "outputs": [
    {
     "data": {
      "text/plain": [
       "5183653"
      ]
     },
     "execution_count": 3,
     "metadata": {},
     "output_type": "execute_result"
    }
   ],
   "source": [
    "# Part 2\n",
    "\n",
    "def get_fuel_req_reccursive(mass):\n",
    "    fuel_mass = get_fuel_req(mass)\n",
    "    if fuel_mass <= 0:\n",
    "        return 0\n",
    "    else:\n",
    "        return fuel_mass + get_fuel_req_reccursive(fuel_mass)\n",
    "    \n",
    "total_fuel = 0\n",
    "for module_mass in input_data:\n",
    "    total_fuel += get_fuel_req_reccursive(int(module_mass))\n",
    "    \n",
    "total_fuel"
   ]
  }
 ],
 "metadata": {
  "kernelspec": {
   "display_name": "venv",
   "language": "python",
   "name": "venv"
  },
  "language_info": {
   "codemirror_mode": {
    "name": "ipython",
    "version": 3
   },
   "file_extension": ".py",
   "mimetype": "text/x-python",
   "name": "python",
   "nbconvert_exporter": "python",
   "pygments_lexer": "ipython3",
   "version": "3.8.5"
  }
 },
 "nbformat": 4,
 "nbformat_minor": 4
}
