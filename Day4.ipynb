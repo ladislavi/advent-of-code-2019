{
 "cells": [
  {
   "cell_type": "code",
   "execution_count": 1,
   "metadata": {},
   "outputs": [],
   "source": [
    "input_range = '264793-803935'\n",
    "start, end = input_range.split('-')"
   ]
  },
  {
   "cell_type": "code",
   "execution_count": 2,
   "metadata": {},
   "outputs": [
    {
     "data": {
      "text/plain": [
       "966"
      ]
     },
     "execution_count": 2,
     "metadata": {},
     "output_type": "execute_result"
    }
   ],
   "source": [
    "# Part 1\n",
    "\n",
    "def is_valid(val):\n",
    "    digits = [int(n) for n in val]\n",
    "    return check_order(digits) & check_duplicate(digits)\n",
    "    \n",
    "def check_order(digits):\n",
    "    if digits != sorted(digits):\n",
    "        return False\n",
    "    else:\n",
    "        return True\n",
    "    \n",
    "def check_duplicate(digits):\n",
    "    i = 0\n",
    "    has_duplicate = False\n",
    "    while i < len(digits)-1:\n",
    "        if digits[i] == digits[i+1]:\n",
    "            has_duplicate = True\n",
    "        i+=1\n",
    "    \n",
    "    return has_duplicate   \n",
    "\n",
    "cnt = 0\n",
    "for n in range(int(start), int(end)+1):\n",
    "    if is_valid(str(n)):\n",
    "        cnt += 1\n",
    "        \n",
    "cnt"
   ]
  },
  {
   "cell_type": "code",
   "execution_count": 3,
   "metadata": {},
   "outputs": [
    {
     "data": {
      "text/plain": [
       "628"
      ]
     },
     "execution_count": 3,
     "metadata": {},
     "output_type": "execute_result"
    }
   ],
   "source": [
    "# Part 2\n",
    "\n",
    "def check_duplicate_2(digits):\n",
    "    i = 0\n",
    "    duplicate = None\n",
    "    while i < len(digits) - 1:\n",
    "        if digits[i] == digits[i+1]:\n",
    "            duplicate = digits[i]\n",
    "            if digits.count(duplicate) == 2:\n",
    "                return True\n",
    "        i += 1\n",
    "    return False\n",
    "\n",
    "def is_valid_2(val):\n",
    "    digits = [int(n) for n in val]\n",
    "    return check_order(digits) & check_duplicate_2(digits)\n",
    "\n",
    "cnt = 0\n",
    "for n in range(int(start), int(end)+1):\n",
    "    if is_valid_2(str(n)):\n",
    "        cnt += 1\n",
    "        \n",
    "cnt"
   ]
  }
 ],
 "metadata": {
  "kernelspec": {
   "display_name": "Python 3",
   "language": "python",
   "name": "python3"
  },
  "language_info": {
   "codemirror_mode": {
    "name": "ipython",
    "version": 3
   },
   "file_extension": ".py",
   "mimetype": "text/x-python",
   "name": "python",
   "nbconvert_exporter": "python",
   "pygments_lexer": "ipython3",
   "version": "3.9.1"
  }
 },
 "nbformat": 4,
 "nbformat_minor": 4
}
