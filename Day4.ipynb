{
 "cells": [
  {
   "cell_type": "markdown",
   "metadata": {},
   "source": [
    "--- Day 4: Secure Container ---\n",
    "\n",
    "You arrive at the Venus fuel depot only to discover it's protected by a password. The Elves had written the password on a sticky note, but someone threw it out.\n",
    "\n",
    "However, they do remember a few key facts about the password:\n",
    "\n",
    "    It is a six-digit number.\n",
    "    The value is within the range given in your puzzle input.\n",
    "    Two adjacent digits are the same (like 22 in 122345).\n",
    "    Going from left to right, the digits never decrease; they only ever increase or stay the same (like 111123 or 135679).\n",
    "\n",
    "Other than the range rule, the following are true:\n",
    "\n",
    "    111111 meets these criteria (double 11, never decreases).\n",
    "    223450 does not meet these criteria (decreasing pair of digits 50).\n",
    "    123789 does not meet these criteria (no double).\n",
    "\n",
    "How many different passwords within the range given in your puzzle input meet these criteria?\n"
   ]
  },
  {
   "cell_type": "code",
   "execution_count": 1,
   "metadata": {},
   "outputs": [],
   "source": [
    "input_range = '264793-803935'\n",
    "start, end = input_range.split('-')"
   ]
  },
  {
   "cell_type": "code",
   "execution_count": 2,
   "metadata": {},
   "outputs": [
    {
     "data": {
      "text/plain": [
       "966"
      ]
     },
     "execution_count": 2,
     "metadata": {},
     "output_type": "execute_result"
    }
   ],
   "source": [
    "# Part 1\n",
    "\n",
    "def is_valid(val):\n",
    "    digits = [int(n) for n in val]\n",
    "    return check_order(digits) & check_duplicate(digits)\n",
    "    \n",
    "def check_order(digits):\n",
    "    if digits != sorted(digits):\n",
    "        return False\n",
    "    else:\n",
    "        return True\n",
    "    \n",
    "def check_duplicate(digits):\n",
    "    i = 0\n",
    "    has_duplicate = False\n",
    "    while i < len(digits)-1:\n",
    "        if digits[i] == digits[i+1]:\n",
    "            has_duplicate = True\n",
    "        i+=1\n",
    "    \n",
    "    return has_duplicate   \n",
    "\n",
    "cnt = 0\n",
    "for n in range(int(start), int(end)+1):\n",
    "    if is_valid(str(n)):\n",
    "        cnt += 1\n",
    "        \n",
    "cnt"
   ]
  },
  {
   "cell_type": "markdown",
   "metadata": {},
   "source": [
    "--- Part Two ---\n",
    "\n",
    "An Elf just remembered one more important detail: the two adjacent matching digits are not part of a larger group of matching digits.\n",
    "\n",
    "Given this additional criterion, but still ignoring the range rule, the following are now true:\n",
    "\n",
    "    112233 meets these criteria because the digits never decrease and all repeated digits are exactly two digits long.\n",
    "    123444 no longer meets the criteria (the repeated 44 is part of a larger group of 444).\n",
    "    111122 meets the criteria (even though 1 is repeated more than twice, it still contains a double 22).\n",
    "\n",
    "How many different passwords within the range given in your puzzle input meet all of the criteria?\n"
   ]
  },
  {
   "cell_type": "code",
   "execution_count": 3,
   "metadata": {},
   "outputs": [
    {
     "data": {
      "text/plain": [
       "628"
      ]
     },
     "execution_count": 3,
     "metadata": {},
     "output_type": "execute_result"
    }
   ],
   "source": [
    "# Part 2\n",
    "\n",
    "def check_duplicate_2(digits):\n",
    "    i = 0\n",
    "    duplicate = None\n",
    "    while i < len(digits) - 1:\n",
    "        if digits[i] == digits[i+1]:\n",
    "            duplicate = digits[i]\n",
    "            if digits.count(duplicate) == 2:\n",
    "                return True\n",
    "        i += 1\n",
    "    return False\n",
    "\n",
    "def is_valid_2(val):\n",
    "    digits = [int(n) for n in val]\n",
    "    return check_order(digits) & check_duplicate_2(digits)\n",
    "\n",
    "cnt = 0\n",
    "for n in range(int(start), int(end)+1):\n",
    "    if is_valid_2(str(n)):\n",
    "        cnt += 1\n",
    "        \n",
    "cnt"
   ]
  }
 ],
 "metadata": {
  "kernelspec": {
   "display_name": "Python 3",
   "language": "python",
   "name": "python3"
  },
  "language_info": {
   "codemirror_mode": {
    "name": "ipython",
    "version": 3
   },
   "file_extension": ".py",
   "mimetype": "text/x-python",
   "name": "python",
   "nbconvert_exporter": "python",
   "pygments_lexer": "ipython3",
   "version": "3.9.1"
  }
 },
 "nbformat": 4,
 "nbformat_minor": 4
}
