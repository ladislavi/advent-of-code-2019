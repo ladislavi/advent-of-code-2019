{
 "cells": [
  {
   "cell_type": "code",
   "execution_count": 1,
   "metadata": {},
   "outputs": [],
   "source": [
    "turns1, turns2 = open('day3.txt').read().splitlines()"
   ]
  },
  {
   "cell_type": "code",
   "execution_count": 2,
   "metadata": {},
   "outputs": [
    {
     "data": {
      "text/plain": [
       "225"
      ]
     },
     "execution_count": 2,
     "metadata": {},
     "output_type": "execute_result"
    }
   ],
   "source": [
    "# Part 1\n",
    "\n",
    "def split_turns(raw_turns):\n",
    "    return raw_turns.split(',')    \n",
    "\n",
    "def parse_turn(turn):\n",
    "    return turn[0], int(turn[1:])\n",
    "\n",
    "def get_turn_steps(start, turn):\n",
    "    start_x, start_y = start\n",
    "    direction, dist = parse_turn(turn)\n",
    "    if direction == 'R':\n",
    "        steps = zip(range(start_x +1 , start_x + dist + 1), [start_y]*dist)\n",
    "    elif direction == 'L':\n",
    "        steps = zip(reversed(range(start_x - dist, start_x)), [start_y]*dist)\n",
    "    elif direction == 'U':\n",
    "        steps = zip([start_x]*dist, range(start_y + 1, start_y + dist + 1))                         \n",
    "    elif direction == 'D':\n",
    "        steps = zip([start_x]*dist, reversed(range(start_y - dist, start_y)))\n",
    "    return [stp for stp in steps]\n",
    "\n",
    "\n",
    "def get_wire_path(turns):\n",
    "    wire_path = []\n",
    "    start = (0, 0)\n",
    "    for turn in split_turns(turns):\n",
    "        wire_path += get_turn_steps(start, turn)\n",
    "        start = wire_path[-1]\n",
    "                \n",
    "    return wire_path\n",
    "\n",
    "def find_path_overlaps(path1, path2):\n",
    "    return list(set(path1) & set(path2))\n",
    "\n",
    "def find_wire_intersects(turns1, turns2):\n",
    "    return find_path_overlaps(get_wire_path(turns1), get_wire_path(turns2))\n",
    "\n",
    "def find_nearest(intersects):\n",
    "    \n",
    "    def manhattan_dist(cords):\n",
    "        return sum((abs(i) for i in cords))\n",
    "                   \n",
    "    return min([manhattan_dist(cords) for cords in intersects])\n",
    "\n",
    "def find_nearest_intersect(turns1, turns2):\n",
    "    return find_nearest(find_wire_intersects(turns1, turns2))\n",
    "\n",
    "\n",
    "find_nearest_intersect(turns1, turns2)"
   ]
  },
  {
   "cell_type": "code",
   "execution_count": 3,
   "metadata": {},
   "outputs": [
    {
     "data": {
      "text/plain": [
       "35194"
      ]
     },
     "execution_count": 3,
     "metadata": {},
     "output_type": "execute_result"
    }
   ],
   "source": [
    "# Part 2\n",
    "\n",
    "def find_overlap_steps(path1, path2, overlaps):\n",
    "    out = []\n",
    "    for overlap in overlaps:\n",
    "        out.append((overlap, path1.index(overlap) + path2.index(overlap)+2))\n",
    "    return out\n",
    "\n",
    "def find_quickest_intersects(turns1, turns2):\n",
    "    path1 = get_wire_path(turns1)\n",
    "    path2 = get_wire_path(turns2)\n",
    "    overlaps = find_path_overlaps(path1, path2)\n",
    "    \n",
    "    overlap_steps = find_overlap_steps(path1, path2, overlaps)\n",
    "    \n",
    "    \n",
    "    return min(overlap_steps, key = lambda t: t[1])[1]\n",
    "\n",
    "find_quickest_intersects(turns1, turns2)"
   ]
  }
 ],
 "metadata": {
  "kernelspec": {
   "display_name": "venv",
   "language": "python",
   "name": "venv"
  },
  "language_info": {
   "codemirror_mode": {
    "name": "ipython",
    "version": 3
   },
   "file_extension": ".py",
   "mimetype": "text/x-python",
   "name": "python",
   "nbconvert_exporter": "python",
   "pygments_lexer": "ipython3",
   "version": "3.8.5"
  }
 },
 "nbformat": 4,
 "nbformat_minor": 4
}
